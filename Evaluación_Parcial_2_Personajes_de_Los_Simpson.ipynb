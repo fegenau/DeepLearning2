{
 "nbformat": 4,
 "nbformat_minor": 0,
 "metadata": {
  "colab": {
   "provenance": []
  },
  "kernelspec": {
   "name": "python3",
   "display_name": "Python 3"
  },
  "language_info": {
   "name": "python"
  }
 },
 "cells": [
  {
   "cell_type": "markdown",
   "source": [
    "# Evaluación Parcial 2 Deep Learning\n",
    "\n",
    "- Profesor: Felipe Zambrano\n",
    "\n",
    "### Instrucciones generales\n",
    "\n",
    "- Esta prohibido compartir las respuestas con otros grupos.\n",
    "- Indicios de copia serán penalizados con la nota mínima.\n",
    "- Cualquier duda fuera del horario de clases se debe enviar por el AVA. Mensajes al docente serán respondidos por este medio.\n",
    "- Pueden usar cualquier material del curso que estimen conveniente, si utiliza material extra debe citarlo.\n",
    "\n",
    "### Sobre la entrega\n",
    "  * Antes de comenzar a realizar la evaluación, guarde una copia de este cuadernillo en su Google Drive (`Archivo > Guardar una copia en Drive`). No hacer esto puede implicar que su trabajo no se guarde correctamente.\n",
    "  *  Debe descargar este cuardenillo de Google Colab como un archivo `.ipynb` (`Archivo > Descargar > Descargar .ipynb`). No se revisarán otros formatos de entrega. Recuerde guardar su desarrollo antes de descargar el archivo correspondiente.\n",
    "  *  El archivo debe ser reproducible, o sea si cargo el archivo en Google Colab y ejecuto todas las celdas, debe reproducir los resultados que usted obtuvo.\n",
    "  *  Se debe subir el archivo `.ipynb` descargado al AVA en el apartado Experiencia de Aprendizaje 2: Redes Convolucionales -> Evaluación Parcial EA2.\n",
    "  *  La fecha límite de entrega es el **sábado 14 de junio hasta las 10 am**. Por cada hora de retraso, se descontará un punto de la nota final. Ejemplo: Si entrega entre 10:00 y 10:59, la nota máxima será 6.0. Si entrega entre 11:00 y 11:59, la nota máxima será 5.0, y así sucesivamente.\n",
    "  *  Ante cualquier sospecha de copia, reprobarán automáticamente el curso con nota mínima (1.0) los involucrados. La discusión entre pares siempre es beneficiosa y fomenta diálogos interesantes, pero cada grupo debe desarrollar su propio trabajo.\n",
    "  * El cálculo de la nota de la evaluación esta dado por: $\\text{Nota}=1+{\\sum_{i=1}^7\\text{PuntajePregunta}_i \\over 7}$\n",
    "\n",
    "\n",
    "### Grupo Nº\n",
    "> POR FAVOR AGREGAR EL NÚMERO DE GRUPO\n",
    "\n",
    "### Integrantes del grupo\n",
    "\n",
    "> POR FAVOR AGREGAR TODOS LOS NOMBRES DE LOS INTEGRANTES\n",
    "\n"
   ],
   "metadata": {
    "id": "tOcMbo3euEMP"
   }
  },
  {
   "cell_type": "markdown",
   "source": [
    "### Sobre el dataset\n",
    "\n",
    "Para esta evaluación, cada grupo deberá trabajar con el dataset que contiene imágenes de personajes de Los Simpson. Deberán seleccionar 10 personajes diferentes (categorías/clases) para construir su modelo de clasificación de imágenes con una red neuronal convolucional.\n",
    "\n",
    "Se recomienda guardar el mejor modelo con `ModelCheckpoint` y usar `TensorBoard` para visualizar la evolución de la función de pérdida y precisión tanto en el conjunto de entrenamiento como en el de validación a lo largo de la épocas."
   ],
   "metadata": {
    "id": "0SkBLWX0njQw"
   }
  },
  {
   "cell_type": "code",
   "source": [
    "# 1. Cargar librerías\n",
    "import numpy as np\n",
    "import pandas as pd\n",
    "import matplotlib.pyplot as plt\n",
    "import seaborn as sns\n",
    "import os\n",
    "import cv2"
   ],
   "metadata": {
    "id": "FbdCg__is4nN",
    "ExecuteTime": {
     "end_time": "2025-06-08T04:49:34.128137Z",
     "start_time": "2025-06-08T04:49:34.118989Z"
    }
   },
   "outputs": [],
   "execution_count": 9
  },
  {
   "metadata": {
    "ExecuteTime": {
     "end_time": "2025-06-08T04:57:42.017695Z",
     "start_time": "2025-06-08T04:57:41.883641Z"
    }
   },
   "cell_type": "code",
   "source": [
    "# 2. Cargar el dataset con las imágenes de Los Simpson\n",
    "dataset_path = 'C:/Users/tiare/OneDrive/Escritorio/DeepLearning/DeepLearning2/simpsons_1'\n",
    "\n",
    "# hacemos primera revisión de los archivos\n",
    "files = os.listdir(dataset_path)\n",
    "print(f\"Total de archivos en el dataset: {len(files)}\")\n",
    "\n",
    "#Hacemos una revisión de las carpetas\n",
    "folders = [f for f in files if os.path.isdir(os.path.join(dataset_path, f))]\n",
    "print(f\"Total de carpetas (categorías): {len(folders)}\")\n",
    "# Revisamos las primeras 5 carpetas\n",
    "print(\"Primeras 5 carpetas (categorías):\", folders[:5])\n",
    "\n",
    "#creamos un diccionario para almacenar las imágenes y sus etiquetas\n",
    "images = []\n",
    "labels = []\n",
    "\n",
    "# Recorremos las carpetas y cargamos las imágenes\n",
    "for folder in folders:\n",
    "    folder_path = os.path.join(dataset_path, folder)\n",
    "    for file in os.listdir(folder_path):\n",
    "        if file.endswith('.png') or file.endswith('.jpg'):\n",
    "            img_path = os.path.join(folder_path, file)\n",
    "            img = cv2.imread(img_path)\n",
    "            if img is not None:\n",
    "                img = cv2.resize(img, (64, 64))  # Redimensionamos las imágenes a 64x64\n",
    "                images.append(img)\n",
    "                labels.append(folder)\n"
   ],
   "outputs": [
    {
     "name": "stdout",
     "output_type": "stream",
     "text": [
      "Total de archivos en el dataset: 1\n",
      "Total de carpetas (categorías): 1\n",
      "Primeras 5 carpetas (categorías): ['agnes_skinner']\n"
     ]
    }
   ],
   "execution_count": 13
  },
  {
   "metadata": {
    "ExecuteTime": {
     "end_time": "2025-06-08T04:58:07.215807Z",
     "start_time": "2025-06-08T04:58:07.185165Z"
    }
   },
   "cell_type": "code",
   "source": [
    "#Tomamos cuantos ejemplos tenemos por categoría\n",
    "category_counts = pd.Series(labels).value_counts()\n",
    "print(\"Cantidad de ejemplos por categoría:\")\n",
    "print(category_counts)"
   ],
   "outputs": [
    {
     "name": "stdout",
     "output_type": "stream",
     "text": [
      "Cantidad de ejemplos por categoría:\n",
      "agnes_skinner    42\n",
      "Name: count, dtype: int64\n"
     ]
    }
   ],
   "execution_count": 14
  },
  {
   "metadata": {
    "ExecuteTime": {
     "end_time": "2025-06-08T04:58:55.597663Z",
     "start_time": "2025-06-08T04:58:55.589919Z"
    }
   },
   "cell_type": "code",
   "source": [
    "#Tenemos que averiguar si las clases están balanceadas\n",
    "balanced = all(count == category_counts.iloc[0] for count in category_counts)\n",
    "print(f\"Las clases están balanceadas: {balanced}\")\n"
   ],
   "outputs": [
    {
     "name": "stdout",
     "output_type": "stream",
     "text": [
      "El dataset está balanceado: True\n"
     ]
    }
   ],
   "execution_count": 15
  },
  {
   "metadata": {},
   "cell_type": "code",
   "outputs": [],
   "execution_count": null,
   "source": ""
  },
  {
   "cell_type": "markdown",
   "source": [
    "**1.** **[6 pts]** Describa las características del dataset:\n",
    "- Personajes seleccionados (Categorías)\n",
    "- Tamaño de las imágenes\n",
    "- Tamaño del dataset\n",
    "- Tamaño del conjunto de entrenamiento\n",
    "- Tamaño del conjunto de test\n",
    "- Indique si las clases están balanceadas\n"
   ],
   "metadata": {
    "id": "mq5MhgKbsetB"
   }
  },
  {
   "cell_type": "code",
   "source": [
    "# Responda aquí:"
   ],
   "metadata": {
    "id": "z0zTsBP2w5Fx"
   },
   "execution_count": null,
   "outputs": []
  },
  {
   "cell_type": "markdown",
   "source": [
    "**2.** **[6 pts]** Genere una previsualización de 10 imágenes por categoría"
   ],
   "metadata": {
    "id": "S9QqzfaDumeg"
   }
  },
  {
   "cell_type": "code",
   "source": [
    "# Responda aquí:"
   ],
   "metadata": {
    "id": "9lWTMIQ5v4rp"
   },
   "execution_count": null,
   "outputs": []
  },
  {
   "cell_type": "markdown",
   "source": [
    "**3.** **[6 pts]** Separe el dataset en un conjunto de entrenamiento y test, y posteriormente normalice los datos"
   ],
   "metadata": {
    "id": "CMMGPDtru_mn"
   }
  },
  {
   "cell_type": "code",
   "source": [
    "# Responda aquí:"
   ],
   "metadata": {
    "id": "ZIgcmS7pr03V"
   },
   "execution_count": null,
   "outputs": []
  },
  {
   "cell_type": "markdown",
   "source": [
    "**4.** **[6 pts]** Defina la arquitectura de la red neuronal convolucional con el detalle de cada capa:\n",
    "- Especifique el tamaño de las imágenes de entrada con sus respectivos canales\n",
    "- Especifique para cada capa convolucional el número de filtros o canales de la capa, el tamaño del filtro o kernel, el stride, el padding y la función de activación utilizada\n",
    "- Especifique el tipo de Pooling junto con el tamaño del filtro y el stride cada vez que se utilice\n",
    "- Especifique el tamaño del vector (flatten) o número de neuronas que ingresan a la MLP\n",
    "- Especifique el número de capas ocultas (densas), las neuronas por capa y la función de activación usada\n",
    "- Especifique las clases de la capa de salida y la función de activación usada\n",
    "- Especifique los parámetros por capa y el número total de parámetros entrenables del modelo\n",
    "- Especifique las técnicas de regularización utilizadas (por ejemplo, Dropout, Batch Normalization o Data Augmentation)\n",
    "- Posteriormente compile y entrene el modelo, especifique el optimizador, la función de pérdida y la métrica para monitorear la precisión"
   ],
   "metadata": {
    "id": "hhuCbEt9v3Ui"
   }
  },
  {
   "cell_type": "code",
   "source": [
    "# Responda aquí:"
   ],
   "metadata": {
    "id": "GvNw_3vWr4eb"
   },
   "execution_count": null,
   "outputs": []
  },
  {
   "cell_type": "markdown",
   "source": [
    "**5.** **[6 pts]** Evalúe el desempeño de su modelo, en términos de:<br>\n",
    "- Precisión en entrenamiento y validación\n",
    "- Tiempo de entrenamiento\n",
    "- Gráfico de la función de pérdida y precisión\n",
    "- Indique si hay sobreajuste o subajuste\n",
    "- ¿Qué cambios podrían mejorar el modelo?"
   ],
   "metadata": {
    "id": "qnYQrQdjxSxD"
   }
  },
  {
   "cell_type": "code",
   "source": [
    "# Responda aquí:"
   ],
   "metadata": {
    "id": "ymsxwOXar-Ej"
   },
   "execution_count": null,
   "outputs": []
  },
  {
   "cell_type": "markdown",
   "source": [
    "**6.** **[6 pts]** Hiperparámetros del entrenamiento<br>\n",
    "\n",
    "Explique cómo afecta:\n",
    "- Learning rate\n",
    "- Batch size\n",
    "- Número de épocas\n",
    "\n",
    "Pruebe 2 o 3 combinaciones distintas y elija la más eficiente en términos de precisión y tiempo."
   ],
   "metadata": {
    "id": "jMgWSf5QycBr"
   }
  },
  {
   "cell_type": "code",
   "source": [
    "# Responda aquí:"
   ],
   "metadata": {
    "id": "RnXn-eeFsB1n"
   },
   "execution_count": null,
   "outputs": []
  },
  {
   "cell_type": "markdown",
   "source": [
    "**7.** **[6 pts]** Predicciones y visualización de errores<br>\n",
    "\n",
    "- Realice predicciones con su modelo entrenado.\n",
    "- Visualice algunas imágenes clasificadas correctamente y otras mal clasificadas.\n",
    "- Proponga hipótesis de por qué el modelo se equivocó."
   ],
   "metadata": {
    "id": "y9cg1YfczKqA"
   }
  },
  {
   "cell_type": "code",
   "source": [
    "# Responda aquí:"
   ],
   "metadata": {
    "id": "eUP-WAz7sEHu"
   },
   "execution_count": null,
   "outputs": []
  }
 ]
}
