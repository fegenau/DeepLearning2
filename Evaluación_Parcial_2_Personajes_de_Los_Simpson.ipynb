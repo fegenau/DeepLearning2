{
  "nbformat": 4,
  "nbformat_minor": 0,
  "metadata": {
    "colab": {
      "provenance": []
    },
    "kernelspec": {
      "name": "python3",
      "display_name": "Python 3"
    },
    "language_info": {
      "name": "python"
    }
  },
  "cells": [
    {
      "cell_type": "markdown",
      "source": [
        "# Evaluación Parcial 2 Deep Learning\n",
        "\n",
        "- Profesor: Felipe Zambrano\n",
        "\n",
        "### Instrucciones generales\n",
        "\n",
        "- Esta prohibido compartir las respuestas con otros grupos.\n",
        "- Indicios de copia serán penalizados con la nota mínima.\n",
        "- Cualquier duda fuera del horario de clases se debe enviar por el AVA. Mensajes al docente serán respondidos por este medio.\n",
        "- Pueden usar cualquier material del curso que estimen conveniente, si utiliza material extra debe citarlo.\n",
        "\n",
        "### Sobre la entrega\n",
        "  * Antes de comenzar a realizar la evaluación, guarde una copia de este cuadernillo en su Google Drive (`Archivo > Guardar una copia en Drive`). No hacer esto puede implicar que su trabajo no se guarde correctamente.\n",
        "  *  Debe descargar este cuardenillo de Google Colab como un archivo `.ipynb` (`Archivo > Descargar > Descargar .ipynb`). No se revisarán otros formatos de entrega. Recuerde guardar su desarrollo antes de descargar el archivo correspondiente.\n",
        "  *  El archivo debe ser reproducible, o sea si cargo el archivo en Google Colab y ejecuto todas las celdas, debe reproducir los resultados que usted obtuvo.\n",
        "  *  Se debe subir el archivo `.ipynb` descargado al AVA en el apartado Experiencia de Aprendizaje 2: Redes Convolucionales -> Evaluación Parcial EA2.\n",
        "  *  La fecha límite de entrega es el **sábado 14 de junio hasta las 10 am**. Por cada hora de retraso, se descontará un punto de la nota final. Ejemplo: Si entrega entre 10:00 y 10:59, la nota máxima será 6.0. Si entrega entre 11:00 y 11:59, la nota máxima será 5.0, y así sucesivamente.\n",
        "  *  Ante cualquier sospecha de copia, reprobarán automáticamente el curso con nota mínima (1.0) los involucrados. La discusión entre pares siempre es beneficiosa y fomenta diálogos interesantes, pero cada grupo debe desarrollar su propio trabajo.\n",
        "  * El cálculo de la nota de la evaluación esta dado por: $\\text{Nota}=1+{\\sum_{i=1}^7\\text{PuntajePregunta}_i \\over 7}$\n",
        "\n",
        "\n",
        "### Grupo Nº\n",
        "> POR FAVOR AGREGAR EL NÚMERO DE GRUPO\n",
        "\n",
        "### Integrantes del grupo\n",
        "\n",
        "> POR FAVOR AGREGAR TODOS LOS NOMBRES DE LOS INTEGRANTES\n",
        "\n"
      ],
      "metadata": {
        "id": "tOcMbo3euEMP"
      }
    },
    {
      "cell_type": "markdown",
      "source": [
        "### Sobre el dataset\n",
        "\n",
        "Para esta evaluación, cada grupo deberá trabajar con el dataset que contiene imágenes de personajes de Los Simpson. Deberán seleccionar 10 personajes diferentes (categorías/clases) para construir su modelo de clasificación de imágenes con una red neuronal convolucional.\n",
        "\n",
        "Se recomienda guardar el mejor modelo con `ModelCheckpoint` y usar `TensorBoard` para visualizar la evolución de la función de pérdida y precisión tanto en el conjunto de entrenamiento como en el de validación a lo largo de la épocas."
      ],
      "metadata": {
        "id": "0SkBLWX0njQw"
      }
    },
    {
      "cell_type": "code",
      "source": [
        "# 1. Cargar librerías\n"
      ],
      "metadata": {
        "id": "FbdCg__is4nN"
      },
      "execution_count": null,
      "outputs": []
    },
    {
      "cell_type": "code",
      "execution_count": null,
      "metadata": {
        "id": "qU6GkLrKsz_6"
      },
      "outputs": [],
      "source": [
        "# 2. Cargar el dataset con las imágenes de Los Simpson\n"
      ]
    },
    {
      "cell_type": "markdown",
      "source": [
        "**1.** **[6 pts]** Describa las características del dataset:\n",
        "- Personajes seleccionados (Categorías)\n",
        "- Tamaño de las imágenes\n",
        "- Tamaño del dataset\n",
        "- Tamaño del conjunto de entrenamiento\n",
        "- Tamaño del conjunto de test\n",
        "- Indique si las clases están balanceadas\n"
      ],
      "metadata": {
        "id": "mq5MhgKbsetB"
      }
    },
    {
      "cell_type": "code",
      "source": [
        "# Responda aquí:"
      ],
      "metadata": {
        "id": "z0zTsBP2w5Fx"
      },
      "execution_count": null,
      "outputs": []
    },
    {
      "cell_type": "markdown",
      "source": [
        "**2.** **[6 pts]** Genere una previsualización de 10 imágenes por categoría"
      ],
      "metadata": {
        "id": "S9QqzfaDumeg"
      }
    },
    {
      "cell_type": "code",
      "source": [
        "# Responda aquí:"
      ],
      "metadata": {
        "id": "9lWTMIQ5v4rp"
      },
      "execution_count": null,
      "outputs": []
    },
    {
      "cell_type": "markdown",
      "source": [
        "**3.** **[6 pts]** Separe el dataset en un conjunto de entrenamiento y test, y posteriormente normalice los datos"
      ],
      "metadata": {
        "id": "CMMGPDtru_mn"
      }
    },
    {
      "cell_type": "code",
      "source": [
        "# Responda aquí:"
      ],
      "metadata": {
        "id": "ZIgcmS7pr03V"
      },
      "execution_count": null,
      "outputs": []
    },
    {
      "cell_type": "markdown",
      "source": [
        "**4.** **[6 pts]** Defina la arquitectura de la red neuronal convolucional con el detalle de cada capa:\n",
        "- Especifique el tamaño de las imágenes de entrada con sus respectivos canales\n",
        "- Especifique para cada capa convolucional el número de filtros o canales de la capa, el tamaño del filtro o kernel, el stride, el padding y la función de activación utilizada\n",
        "- Especifique el tipo de Pooling junto con el tamaño del filtro y el stride cada vez que se utilice\n",
        "- Especifique el tamaño del vector (flatten) o número de neuronas que ingresan a la MLP\n",
        "- Especifique el número de capas ocultas (densas), las neuronas por capa y la función de activación usada\n",
        "- Especifique las clases de la capa de salida y la función de activación usada\n",
        "- Especifique los parámetros por capa y el número total de parámetros entrenables del modelo\n",
        "- Especifique las técnicas de regularización utilizadas (por ejemplo, Dropout, Batch Normalization o Data Augmentation)\n",
        "- Posteriormente compile y entrene el modelo, especifique el optimizador, la función de pérdida y la métrica para monitorear la precisión"
      ],
      "metadata": {
        "id": "hhuCbEt9v3Ui"
      }
    },
    {
      "cell_type": "code",
      "source": [
        "# Responda aquí:"
      ],
      "metadata": {
        "id": "GvNw_3vWr4eb"
      },
      "execution_count": null,
      "outputs": []
    },
    {
      "cell_type": "markdown",
      "source": [
        "**5.** **[6 pts]** Evalúe el desempeño de su modelo, en términos de:<br>\n",
        "- Precisión en entrenamiento y validación\n",
        "- Tiempo de entrenamiento\n",
        "- Gráfico de la función de pérdida y precisión\n",
        "- Indique si hay sobreajuste o subajuste\n",
        "- ¿Qué cambios podrían mejorar el modelo?"
      ],
      "metadata": {
        "id": "qnYQrQdjxSxD"
      }
    },
    {
      "cell_type": "code",
      "source": [
        "# Responda aquí:"
      ],
      "metadata": {
        "id": "ymsxwOXar-Ej"
      },
      "execution_count": null,
      "outputs": []
    },
    {
      "cell_type": "markdown",
      "source": [
        "**6.** **[6 pts]** Hiperparámetros del entrenamiento<br>\n",
        "\n",
        "Explique cómo afecta:\n",
        "- Learning rate\n",
        "- Batch size\n",
        "- Número de épocas\n",
        "\n",
        "Pruebe 2 o 3 combinaciones distintas y elija la más eficiente en términos de precisión y tiempo."
      ],
      "metadata": {
        "id": "jMgWSf5QycBr"
      }
    },
    {
      "cell_type": "code",
      "source": [
        "# Responda aquí:"
      ],
      "metadata": {
        "id": "RnXn-eeFsB1n"
      },
      "execution_count": null,
      "outputs": []
    },
    {
      "cell_type": "markdown",
      "source": [
        "**7.** **[6 pts]** Predicciones y visualización de errores<br>\n",
        "\n",
        "- Realice predicciones con su modelo entrenado.\n",
        "- Visualice algunas imágenes clasificadas correctamente y otras mal clasificadas.\n",
        "- Proponga hipótesis de por qué el modelo se equivocó."
      ],
      "metadata": {
        "id": "y9cg1YfczKqA"
      }
    },
    {
      "cell_type": "code",
      "source": [
        "# Responda aquí:"
      ],
      "metadata": {
        "id": "eUP-WAz7sEHu"
      },
      "execution_count": null,
      "outputs": []
    }
  ]
}